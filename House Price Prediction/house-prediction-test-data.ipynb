{
 "cells": [
  {
   "cell_type": "code",
   "execution_count": 1,
   "id": "feb83a2e",
   "metadata": {
    "_cell_guid": "b1076dfc-b9ad-4769-8c92-a6c4dae69d19",
    "_uuid": "8f2839f25d086af736a60e9eeb907d3b93b6e0e5",
    "execution": {
     "iopub.execute_input": "2022-08-10T18:47:18.800037Z",
     "iopub.status.busy": "2022-08-10T18:47:18.799182Z",
     "iopub.status.idle": "2022-08-10T18:47:18.815881Z",
     "shell.execute_reply": "2022-08-10T18:47:18.814737Z"
    },
    "papermill": {
     "duration": 0.028425,
     "end_time": "2022-08-10T18:47:18.818885",
     "exception": false,
     "start_time": "2022-08-10T18:47:18.790460",
     "status": "completed"
    },
    "tags": []
   },
   "outputs": [
    {
     "name": "stdout",
     "output_type": "stream",
     "text": [
      "/kaggle/input/house-prices-advanced-regression-techniques/sample_submission.csv\n",
      "/kaggle/input/house-prices-advanced-regression-techniques/data_description.txt\n",
      "/kaggle/input/house-prices-advanced-regression-techniques/train.csv\n",
      "/kaggle/input/house-prices-advanced-regression-techniques/test.csv\n"
     ]
    }
   ],
   "source": [
    "# This Python 3 environment comes with many helpful analytics libraries installed\n",
    "# It is defined by the kaggle/python Docker image: https://github.com/kaggle/docker-python\n",
    "# For example, here's several helpful packages to load\n",
    "\n",
    "import numpy as np # linear algebra\n",
    "import pandas as pd # data processing, CSV file I/O (e.g. pd.read_csv)\n",
    "\n",
    "# Input data files are available in the read-only \"../input/\" directory\n",
    "# For example, running this (by clicking run or pressing Shift+Enter) will list all files under the input directory\n",
    "\n",
    "import os\n",
    "for dirname, _, filenames in os.walk('/kaggle/input'):\n",
    "    for filename in filenames:\n",
    "        print(os.path.join(dirname, filename))\n",
    "\n",
    "# You can write up to 20GB to the current directory (/kaggle/working/) that gets preserved as output when you create a version using \"Save & Run All\" \n",
    "# You can also write temporary files to /kaggle/temp/, but they won't be saved outside of the current session"
   ]
  },
  {
   "cell_type": "code",
   "execution_count": 2,
   "id": "20e1902e",
   "metadata": {
    "execution": {
     "iopub.execute_input": "2022-08-10T18:47:18.829864Z",
     "iopub.status.busy": "2022-08-10T18:47:18.829169Z",
     "iopub.status.idle": "2022-08-10T18:47:19.914783Z",
     "shell.execute_reply": "2022-08-10T18:47:19.913299Z"
    },
    "papermill": {
     "duration": 1.094179,
     "end_time": "2022-08-10T18:47:19.917714",
     "exception": false,
     "start_time": "2022-08-10T18:47:18.823535",
     "status": "completed"
    },
    "tags": []
   },
   "outputs": [],
   "source": [
    "import numpy as np\n",
    "import pandas as pd\n",
    "import matplotlib.pyplot as plt\n",
    "import seaborn as sns"
   ]
  },
  {
   "cell_type": "code",
   "execution_count": 3,
   "id": "6207ecc0",
   "metadata": {
    "execution": {
     "iopub.execute_input": "2022-08-10T18:47:19.928398Z",
     "iopub.status.busy": "2022-08-10T18:47:19.927999Z",
     "iopub.status.idle": "2022-08-10T18:47:19.971210Z",
     "shell.execute_reply": "2022-08-10T18:47:19.970095Z"
    },
    "papermill": {
     "duration": 0.051757,
     "end_time": "2022-08-10T18:47:19.973993",
     "exception": false,
     "start_time": "2022-08-10T18:47:19.922236",
     "status": "completed"
    },
    "tags": []
   },
   "outputs": [],
   "source": [
    "test_df = pd.read_csv('../input/house-prices-advanced-regression-techniques/test.csv')"
   ]
  },
  {
   "cell_type": "code",
   "execution_count": 4,
   "id": "71f42872",
   "metadata": {
    "execution": {
     "iopub.execute_input": "2022-08-10T18:47:19.984741Z",
     "iopub.status.busy": "2022-08-10T18:47:19.984339Z",
     "iopub.status.idle": "2022-08-10T18:47:19.993841Z",
     "shell.execute_reply": "2022-08-10T18:47:19.992492Z"
    },
    "papermill": {
     "duration": 0.017861,
     "end_time": "2022-08-10T18:47:19.996364",
     "exception": false,
     "start_time": "2022-08-10T18:47:19.978503",
     "status": "completed"
    },
    "tags": []
   },
   "outputs": [
    {
     "data": {
      "text/plain": [
       "(1459, 80)"
      ]
     },
     "execution_count": 4,
     "metadata": {},
     "output_type": "execute_result"
    }
   ],
   "source": [
    "test_df.shape"
   ]
  },
  {
   "cell_type": "code",
   "execution_count": 5,
   "id": "9c39863c",
   "metadata": {
    "execution": {
     "iopub.execute_input": "2022-08-10T18:47:20.007887Z",
     "iopub.status.busy": "2022-08-10T18:47:20.006923Z",
     "iopub.status.idle": "2022-08-10T18:47:20.041406Z",
     "shell.execute_reply": "2022-08-10T18:47:20.040137Z"
    },
    "papermill": {
     "duration": 0.044129,
     "end_time": "2022-08-10T18:47:20.045088",
     "exception": false,
     "start_time": "2022-08-10T18:47:20.000959",
     "status": "completed"
    },
    "tags": []
   },
   "outputs": [
    {
     "name": "stdout",
     "output_type": "stream",
     "text": [
      "<class 'pandas.core.frame.DataFrame'>\n",
      "RangeIndex: 1459 entries, 0 to 1458\n",
      "Data columns (total 80 columns):\n",
      " #   Column         Non-Null Count  Dtype  \n",
      "---  ------         --------------  -----  \n",
      " 0   Id             1459 non-null   int64  \n",
      " 1   MSSubClass     1459 non-null   int64  \n",
      " 2   MSZoning       1455 non-null   object \n",
      " 3   LotFrontage    1232 non-null   float64\n",
      " 4   LotArea        1459 non-null   int64  \n",
      " 5   Street         1459 non-null   object \n",
      " 6   Alley          107 non-null    object \n",
      " 7   LotShape       1459 non-null   object \n",
      " 8   LandContour    1459 non-null   object \n",
      " 9   Utilities      1457 non-null   object \n",
      " 10  LotConfig      1459 non-null   object \n",
      " 11  LandSlope      1459 non-null   object \n",
      " 12  Neighborhood   1459 non-null   object \n",
      " 13  Condition1     1459 non-null   object \n",
      " 14  Condition2     1459 non-null   object \n",
      " 15  BldgType       1459 non-null   object \n",
      " 16  HouseStyle     1459 non-null   object \n",
      " 17  OverallQual    1459 non-null   int64  \n",
      " 18  OverallCond    1459 non-null   int64  \n",
      " 19  YearBuilt      1459 non-null   int64  \n",
      " 20  YearRemodAdd   1459 non-null   int64  \n",
      " 21  RoofStyle      1459 non-null   object \n",
      " 22  RoofMatl       1459 non-null   object \n",
      " 23  Exterior1st    1458 non-null   object \n",
      " 24  Exterior2nd    1458 non-null   object \n",
      " 25  MasVnrType     1443 non-null   object \n",
      " 26  MasVnrArea     1444 non-null   float64\n",
      " 27  ExterQual      1459 non-null   object \n",
      " 28  ExterCond      1459 non-null   object \n",
      " 29  Foundation     1459 non-null   object \n",
      " 30  BsmtQual       1415 non-null   object \n",
      " 31  BsmtCond       1414 non-null   object \n",
      " 32  BsmtExposure   1415 non-null   object \n",
      " 33  BsmtFinType1   1417 non-null   object \n",
      " 34  BsmtFinSF1     1458 non-null   float64\n",
      " 35  BsmtFinType2   1417 non-null   object \n",
      " 36  BsmtFinSF2     1458 non-null   float64\n",
      " 37  BsmtUnfSF      1458 non-null   float64\n",
      " 38  TotalBsmtSF    1458 non-null   float64\n",
      " 39  Heating        1459 non-null   object \n",
      " 40  HeatingQC      1459 non-null   object \n",
      " 41  CentralAir     1459 non-null   object \n",
      " 42  Electrical     1459 non-null   object \n",
      " 43  1stFlrSF       1459 non-null   int64  \n",
      " 44  2ndFlrSF       1459 non-null   int64  \n",
      " 45  LowQualFinSF   1459 non-null   int64  \n",
      " 46  GrLivArea      1459 non-null   int64  \n",
      " 47  BsmtFullBath   1457 non-null   float64\n",
      " 48  BsmtHalfBath   1457 non-null   float64\n",
      " 49  FullBath       1459 non-null   int64  \n",
      " 50  HalfBath       1459 non-null   int64  \n",
      " 51  BedroomAbvGr   1459 non-null   int64  \n",
      " 52  KitchenAbvGr   1459 non-null   int64  \n",
      " 53  KitchenQual    1458 non-null   object \n",
      " 54  TotRmsAbvGrd   1459 non-null   int64  \n",
      " 55  Functional     1457 non-null   object \n",
      " 56  Fireplaces     1459 non-null   int64  \n",
      " 57  FireplaceQu    729 non-null    object \n",
      " 58  GarageType     1383 non-null   object \n",
      " 59  GarageYrBlt    1381 non-null   float64\n",
      " 60  GarageFinish   1381 non-null   object \n",
      " 61  GarageCars     1458 non-null   float64\n",
      " 62  GarageArea     1458 non-null   float64\n",
      " 63  GarageQual     1381 non-null   object \n",
      " 64  GarageCond     1381 non-null   object \n",
      " 65  PavedDrive     1459 non-null   object \n",
      " 66  WoodDeckSF     1459 non-null   int64  \n",
      " 67  OpenPorchSF    1459 non-null   int64  \n",
      " 68  EnclosedPorch  1459 non-null   int64  \n",
      " 69  3SsnPorch      1459 non-null   int64  \n",
      " 70  ScreenPorch    1459 non-null   int64  \n",
      " 71  PoolArea       1459 non-null   int64  \n",
      " 72  PoolQC         3 non-null      object \n",
      " 73  Fence          290 non-null    object \n",
      " 74  MiscFeature    51 non-null     object \n",
      " 75  MiscVal        1459 non-null   int64  \n",
      " 76  MoSold         1459 non-null   int64  \n",
      " 77  YrSold         1459 non-null   int64  \n",
      " 78  SaleType       1458 non-null   object \n",
      " 79  SaleCondition  1459 non-null   object \n",
      "dtypes: float64(11), int64(26), object(43)\n",
      "memory usage: 912.0+ KB\n"
     ]
    }
   ],
   "source": [
    "test_df.info()"
   ]
  },
  {
   "cell_type": "code",
   "execution_count": 6,
   "id": "cc7cb355",
   "metadata": {
    "execution": {
     "iopub.execute_input": "2022-08-10T18:47:20.056396Z",
     "iopub.status.busy": "2022-08-10T18:47:20.055985Z",
     "iopub.status.idle": "2022-08-10T18:47:20.069072Z",
     "shell.execute_reply": "2022-08-10T18:47:20.068023Z"
    },
    "papermill": {
     "duration": 0.021492,
     "end_time": "2022-08-10T18:47:20.071512",
     "exception": false,
     "start_time": "2022-08-10T18:47:20.050020",
     "status": "completed"
    },
    "tags": []
   },
   "outputs": [
    {
     "data": {
      "text/plain": [
       "Id                 0\n",
       "MSSubClass         0\n",
       "MSZoning           4\n",
       "LotFrontage      227\n",
       "LotArea            0\n",
       "                ... \n",
       "MiscVal            0\n",
       "MoSold             0\n",
       "YrSold             0\n",
       "SaleType           1\n",
       "SaleCondition      0\n",
       "Length: 80, dtype: int64"
      ]
     },
     "execution_count": 6,
     "metadata": {},
     "output_type": "execute_result"
    }
   ],
   "source": [
    "test_df.isnull().sum()"
   ]
  },
  {
   "cell_type": "code",
   "execution_count": 7,
   "id": "c0e79d3b",
   "metadata": {
    "execution": {
     "iopub.execute_input": "2022-08-10T18:47:20.082519Z",
     "iopub.status.busy": "2022-08-10T18:47:20.082152Z",
     "iopub.status.idle": "2022-08-10T18:47:20.088386Z",
     "shell.execute_reply": "2022-08-10T18:47:20.087185Z"
    },
    "papermill": {
     "duration": 0.014332,
     "end_time": "2022-08-10T18:47:20.090599",
     "exception": false,
     "start_time": "2022-08-10T18:47:20.076267",
     "status": "completed"
    },
    "tags": []
   },
   "outputs": [],
   "source": [
    "test_df['LotFrontage'] = test_df['LotFrontage'].fillna(test_df['LotFrontage'].mean())"
   ]
  },
  {
   "cell_type": "code",
   "execution_count": 8,
   "id": "b32c8f8b",
   "metadata": {
    "execution": {
     "iopub.execute_input": "2022-08-10T18:47:20.102027Z",
     "iopub.status.busy": "2022-08-10T18:47:20.101468Z",
     "iopub.status.idle": "2022-08-10T18:47:20.107615Z",
     "shell.execute_reply": "2022-08-10T18:47:20.106859Z"
    },
    "papermill": {
     "duration": 0.01433,
     "end_time": "2022-08-10T18:47:20.109885",
     "exception": false,
     "start_time": "2022-08-10T18:47:20.095555",
     "status": "completed"
    },
    "tags": []
   },
   "outputs": [],
   "source": [
    "test_df['MSZoning'] = test_df['MSZoning'].fillna(test_df['MSZoning'].mode()[0])"
   ]
  },
  {
   "cell_type": "code",
   "execution_count": 9,
   "id": "2ac392c7",
   "metadata": {
    "execution": {
     "iopub.execute_input": "2022-08-10T18:47:20.121519Z",
     "iopub.status.busy": "2022-08-10T18:47:20.120914Z",
     "iopub.status.idle": "2022-08-10T18:47:20.135288Z",
     "shell.execute_reply": "2022-08-10T18:47:20.134320Z"
    },
    "papermill": {
     "duration": 0.023266,
     "end_time": "2022-08-10T18:47:20.137950",
     "exception": false,
     "start_time": "2022-08-10T18:47:20.114684",
     "status": "completed"
    },
    "tags": []
   },
   "outputs": [],
   "source": [
    "test_df.drop(['Alley'],axis=1,inplace=True)\n",
    "test_df.drop(['GarageYrBlt'],axis=1,inplace=True)\n",
    "test_df.drop(['Id'],axis=1,inplace=True)\n",
    "test_df.drop(['PoolQC','Fence','MiscFeature'],axis=1,inplace=True)"
   ]
  },
  {
   "cell_type": "code",
   "execution_count": 10,
   "id": "b48b1c58",
   "metadata": {
    "execution": {
     "iopub.execute_input": "2022-08-10T18:47:20.149716Z",
     "iopub.status.busy": "2022-08-10T18:47:20.149089Z",
     "iopub.status.idle": "2022-08-10T18:47:20.170554Z",
     "shell.execute_reply": "2022-08-10T18:47:20.169115Z"
    },
    "papermill": {
     "duration": 0.032005,
     "end_time": "2022-08-10T18:47:20.174854",
     "exception": false,
     "start_time": "2022-08-10T18:47:20.142849",
     "status": "completed"
    },
    "tags": []
   },
   "outputs": [],
   "source": [
    "test_df['BsmtCond']=test_df['BsmtCond'].fillna(test_df['BsmtCond'].mode()[0])\n",
    "test_df['BsmtQual']=test_df['BsmtQual'].fillna(test_df['BsmtQual'].mode()[0])\n",
    "test_df['FireplaceQu']=test_df['FireplaceQu'].fillna(test_df['FireplaceQu'].mode()[0])\n",
    "test_df['GarageType']=test_df['GarageType'].fillna(test_df['GarageType'].mode()[0])\n",
    "test_df['GarageFinish']=test_df['GarageFinish'].fillna(test_df['GarageFinish'].mode()[0])\n",
    "test_df['GarageQual']=test_df['GarageQual'].fillna(test_df['GarageQual'].mode()[0])\n",
    "test_df['GarageCond']=test_df['GarageCond'].fillna(test_df['GarageCond'].mode()[0])\n",
    "test_df['MasVnrType']=test_df['MasVnrType'].fillna(test_df['MasVnrType'].mode()[0])\n",
    "test_df['BsmtFinType2']=test_df['BsmtFinType2'].fillna(test_df['BsmtFinType2'].mode()[0])\n",
    "test_df['MasVnrArea']=test_df['MasVnrArea'].fillna(test_df['MasVnrArea'].mode()[0])\n",
    "test_df['BsmtExposure']=test_df['BsmtExposure'].fillna(test_df['BsmtExposure'].mode()[0])"
   ]
  },
  {
   "cell_type": "code",
   "execution_count": 11,
   "id": "b1de2233",
   "metadata": {
    "execution": {
     "iopub.execute_input": "2022-08-10T18:47:20.191944Z",
     "iopub.status.busy": "2022-08-10T18:47:20.190691Z",
     "iopub.status.idle": "2022-08-10T18:47:20.197235Z",
     "shell.execute_reply": "2022-08-10T18:47:20.195674Z"
    },
    "papermill": {
     "duration": 0.017855,
     "end_time": "2022-08-10T18:47:20.200960",
     "exception": false,
     "start_time": "2022-08-10T18:47:20.183105",
     "status": "completed"
    },
    "tags": []
   },
   "outputs": [],
   "source": [
    "#test_df.dropna(inplace=True)"
   ]
  },
  {
   "cell_type": "code",
   "execution_count": 12,
   "id": "eba0772f",
   "metadata": {
    "execution": {
     "iopub.execute_input": "2022-08-10T18:47:20.217053Z",
     "iopub.status.busy": "2022-08-10T18:47:20.216476Z",
     "iopub.status.idle": "2022-08-10T18:47:20.660940Z",
     "shell.execute_reply": "2022-08-10T18:47:20.659727Z"
    },
    "papermill": {
     "duration": 0.456007,
     "end_time": "2022-08-10T18:47:20.663906",
     "exception": false,
     "start_time": "2022-08-10T18:47:20.207899",
     "status": "completed"
    },
    "tags": []
   },
   "outputs": [
    {
     "data": {
      "text/plain": [
       "<AxesSubplot:>"
      ]
     },
     "execution_count": 12,
     "metadata": {},
     "output_type": "execute_result"
    },
    {
     "data": {
      "image/png": "[encoded data removed]",
      "text/plain": [
       "<Figure size 432x288 with 1 Axes>"
      ]
     },
     "metadata": {
      "needs_background": "light"
     },
     "output_type": "display_data"
    }
   ],
   "source": [
    "sns.heatmap(test_df.isnull(),yticklabels=False,cbar=False)"
   ]
  },
  {
   "cell_type": "code",
   "execution_count": 13,
   "id": "aac25fcf",
   "metadata": {
    "execution": {
     "iopub.execute_input": "2022-08-10T18:47:20.676348Z",
     "iopub.status.busy": "2022-08-10T18:47:20.675583Z",
     "iopub.status.idle": "2022-08-10T18:47:20.684338Z",
     "shell.execute_reply": "2022-08-10T18:47:20.683293Z"
    },
    "papermill": {
     "duration": 0.017781,
     "end_time": "2022-08-10T18:47:20.686891",
     "exception": false,
     "start_time": "2022-08-10T18:47:20.669110",
     "status": "completed"
    },
    "tags": []
   },
   "outputs": [
    {
     "data": {
      "text/plain": [
       "(1459, 74)"
      ]
     },
     "execution_count": 13,
     "metadata": {},
     "output_type": "execute_result"
    }
   ],
   "source": [
    "test_df.shape"
   ]
  },
  {
   "cell_type": "code",
   "execution_count": 14,
   "id": "37084016",
   "metadata": {
    "execution": {
     "iopub.execute_input": "2022-08-10T18:47:20.700240Z",
     "iopub.status.busy": "2022-08-10T18:47:20.699592Z",
     "iopub.status.idle": "2022-08-10T18:47:20.735170Z",
     "shell.execute_reply": "2022-08-10T18:47:20.734086Z"
    },
    "papermill": {
     "duration": 0.045702,
     "end_time": "2022-08-10T18:47:20.738032",
     "exception": false,
     "start_time": "2022-08-10T18:47:20.692330",
     "status": "completed"
    },
    "tags": []
   },
   "outputs": [],
   "source": [
    "test_df.to_csv('formulatedtest.csv',index=False)"
   ]
  }
 ],
 "metadata": {
  "kernelspec": {
   "display_name": "Python 3",
   "language": "python",
   "name": "python3"
  },
  "language_info": {
   "codemirror_mode": {
    "name": "ipython",
    "version": 3
   },
   "file_extension": ".py",
   "mimetype": "text/x-python",
   "name": "python",
   "nbconvert_exporter": "python",
   "pygments_lexer": "ipython3",
   "version": "3.7.12"
  },
  "papermill": {
   "default_parameters": {},
   "duration": 11.98778,
   "end_time": "2022-08-10T18:47:21.465455",
   "environment_variables": {},
   "exception": null,
   "input_path": "__notebook__.ipynb",
   "output_path": "__notebook__.ipynb",
   "parameters": {},
   "start_time": "2022-08-10T18:47:09.477675",
   "version": "2.3.4"
  }
 },
 "nbformat": 4,
 "nbformat_minor": 5
}
